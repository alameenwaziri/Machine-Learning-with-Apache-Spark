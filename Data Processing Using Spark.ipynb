{
  "cells": [
    {
      "cell_type": "markdown",
      "metadata": {
        "id": "view-in-github",
        "colab_type": "text"
      },
      "source": [
        "<a href=\"https://colab.research.google.com/github/alameenwaziri/Machine-Learning-with-Apache-Spark/blob/main/Data%20Processing%20Using%20Spark.ipynb\" target=\"_parent\"><img src=\"https://colab.research.google.com/assets/colab-badge.svg\" alt=\"Open In Colab\"/></a>"
      ]
    },
    {
      "cell_type": "markdown",
      "metadata": {
        "id": "f1c9cdee-5f07-4e99-86d5-ce7dfdb2dc97"
      },
      "source": [
        "<p style=\"text-align:center\">\n",
        "    <a href=\"https://skills.network\" target=\"_blank\">\n",
        "    <img src=\"https://cf-courses-data.s3.us.cloud-object-storage.appdomain.cloud/assets/logos/SN_web_lightmode.png\" width=\"200\" alt=\"Skills Network Logo\">\n",
        "    </a>\n",
        "</p>\n"
      ]
    },
    {
      "cell_type": "markdown",
      "metadata": {
        "id": "342b28cb-cfe3-4417-a0d9-a4f543ce42c9"
      },
      "source": [
        "# Practice Project\n",
        "\n",
        "Estimated time needed: **60** minutes\n",
        "\n",
        "This practice project focuses on data transformation and integration using PySpark. Work with two datasets, perform various transformations such as adding columns, renaming columns, dropping unnecessary columns, joining dataframes, and finally, writing the results into both a Hive warehouse and an HDFS file system.\n"
      ]
    },
    {
      "cell_type": "markdown",
      "metadata": {
        "id": "bb94b555-8a44-4fc0-bd35-89613ba4c198"
      },
      "source": [
        "### Prerequisites\n",
        "\n",
        "For this lab, we will use wget, Python and Spark (PySpark). Therefore, it's essential to make sure that the below-specified libraries are installed in the lab environment or within Skills Network (SN) Labs.\n",
        "\n",
        "\n"
      ]
    },
    {
      "cell_type": "code",
      "metadata": {
        "colab": {
          "base_uri": "https://localhost:8080/"
        },
        "id": "513208c1-7e8f-4663-bd48-52751b63c7fd",
        "outputId": "b591427e-ef9c-402f-ae87-f989ac07b34c"
      },
      "outputs": [
        {
          "output_type": "stream",
          "name": "stdout",
          "text": [
            "Collecting wget\n",
            "  Downloading wget-3.2.zip (10 kB)\n",
            "  Preparing metadata (setup.py) ... \u001b[?25l\u001b[?25hdone\n",
            "Requirement already satisfied: pyspark in /usr/local/lib/python3.10/dist-packages (3.5.3)\n",
            "Collecting findspark\n",
            "  Downloading findspark-2.0.1-py2.py3-none-any.whl.metadata (352 bytes)\n",
            "Requirement already satisfied: py4j==0.10.9.7 in /usr/local/lib/python3.10/dist-packages (from pyspark) (0.10.9.7)\n",
            "Downloading findspark-2.0.1-py2.py3-none-any.whl (4.4 kB)\n",
            "Building wheels for collected packages: wget\n",
            "  Building wheel for wget (setup.py) ... \u001b[?25l\u001b[?25hdone\n",
            "  Created wheel for wget: filename=wget-3.2-py3-none-any.whl size=9656 sha256=98823e55abfd9c581939673540ad492cb7a905c23b729d2a800995f503211b85\n",
            "  Stored in directory: /root/.cache/pip/wheels/8b/f1/7f/5c94f0a7a505ca1c81cd1d9208ae2064675d97582078e6c769\n",
            "Successfully built wget\n",
            "Installing collected packages: wget, findspark\n",
            "Successfully installed findspark-2.0.1 wget-3.2\n"
          ]
        }
      ],
      "source": [
        "# Installing required packages\n",
        "\n",
        "!pip install wget pyspark  findspark"
      ],
      "execution_count": 1
    },
    {
      "cell_type": "markdown",
      "metadata": {
        "id": "2a7de181-2500-4d83-b67f-b58f103b1368"
      },
      "source": [
        "#### Prework - Initiate the Spark Session\n"
      ]
    },
    {
      "cell_type": "code",
      "metadata": {
        "id": "e80435ad-d4be-4e98-8a5e-7c5f6acd63a5"
      },
      "outputs": [],
      "source": [
        "import findspark\n",
        "\n",
        "findspark.init()"
      ],
      "execution_count": 2
    },
    {
      "cell_type": "code",
      "metadata": {
        "id": "97bf2507-04a0-4616-9515-bd93fd7976ed"
      },
      "outputs": [],
      "source": [
        "# PySpark is the Spark API for Python. In this lab, we use PySpark to initialize the SparkContext.\n",
        "\n",
        "from pyspark import SparkContext, SparkConf\n",
        "\n",
        "from pyspark.sql import SparkSession"
      ],
      "execution_count": 3
    },
    {
      "cell_type": "code",
      "metadata": {
        "id": "2e8377f9-4b80-4710-b2e7-c43bcd6654ef"
      },
      "outputs": [],
      "source": [
        "# Creating a SparkContext object\n",
        "\n",
        "sc = SparkContext.getOrCreate()\n",
        "\n",
        "# Creating a Spark Session\n",
        "\n",
        "spark = SparkSession \\\n",
        "    .builder \\\n",
        "    .appName(\"Python Spark DataFrames basic example\") \\\n",
        "    .config(\"spark.some.config.option\", \"some-value\") \\\n",
        "    .getOrCreate()"
      ],
      "execution_count": 4
    },
    {
      "cell_type": "markdown",
      "metadata": {
        "id": "5699ea7b-3d83-4d3f-9f62-be18df32dbce"
      },
      "source": [
        "### Task 1: Load datasets into PySpark DataFrames\n",
        "\n",
        "Download the datasets from the folloing links using `wget` and load it in a Spark Dataframe.\n",
        "\n",
        "1. https://cf-courses-data.s3.us.cloud-object-storage.appdomain.cloud/IBM-BD0225EN-SkillsNetwork/labs/data/dataset1.csv  \n",
        "2. https://cf-courses-data.s3.us.cloud-object-storage.appdomain.cloud/IBM-BD0225EN-SkillsNetwork/labs/data/dataset2.csv  \n",
        "\n",
        "*Hint: Import wget*\n"
      ]
    },
    {
      "cell_type": "code",
      "metadata": {
        "colab": {
          "base_uri": "https://localhost:8080/",
          "height": 35
        },
        "id": "63918236-3f94-4944-9e15-76dd412784e8",
        "outputId": "f4720c5f-ba8b-4415-af4f-8385b52d89fd"
      },
      "outputs": [
        {
          "output_type": "execute_result",
          "data": {
            "text/plain": [
              "'dataset2.csv'"
            ],
            "application/vnd.google.colaboratory.intrinsic+json": {
              "type": "string"
            }
          },
          "metadata": {},
          "execution_count": 5
        }
      ],
      "source": [
        "#download dataset using wget\n",
        "import wget\n",
        "\n",
        "link_to_data1 = 'https://cf-courses-data.s3.us.cloud-object-storage.appdomain.cloud/IBM-BD0225EN-SkillsNetwork/labs/data/dataset1.csv'\n",
        "wget.download(link_to_data1)\n",
        "\n",
        "link_to_data2 = 'https://cf-courses-data.s3.us.cloud-object-storage.appdomain.cloud/IBM-BD0225EN-SkillsNetwork/labs/data/dataset2.csv'\n",
        "wget.download(link_to_data2)"
      ],
      "execution_count": 5
    },
    {
      "cell_type": "code",
      "metadata": {
        "id": "e61605bf-1df9-43b8-8666-2ed73a2af231"
      },
      "outputs": [],
      "source": [
        "#load the data into a pyspark dataframe\n",
        "\n",
        "df1 = spark.read.csv(\"dataset1.csv\", header=True, inferSchema=True)\n",
        "df2 = spark.read.csv(\"dataset2.csv\", header=True, inferSchema=True)"
      ],
      "execution_count": 6
    },
    {
      "cell_type": "markdown",
      "metadata": {
        "id": "573864af-9f42-44e0-a1a7-72ff0392c344"
      },
      "source": [
        "### Task 2: Display the schema of both dataframes\n",
        "\n",
        "Display the schema of `df1` and `df2` to understand the structure of the datasets.\n"
      ]
    },
    {
      "cell_type": "code",
      "metadata": {
        "colab": {
          "base_uri": "https://localhost:8080/"
        },
        "id": "64577ff1-6ee9-4e81-9388-07d6cd4c67e4",
        "outputId": "c0678096-aad8-4167-d1c9-d5adc82116fa"
      },
      "outputs": [
        {
          "output_type": "stream",
          "name": "stdout",
          "text": [
            "root\n",
            " |-- customer_id: integer (nullable = true)\n",
            " |-- date_column: string (nullable = true)\n",
            " |-- amount: integer (nullable = true)\n",
            " |-- description: string (nullable = true)\n",
            " |-- location: string (nullable = true)\n",
            "\n",
            "root\n",
            " |-- customer_id: integer (nullable = true)\n",
            " |-- transaction_date: string (nullable = true)\n",
            " |-- value: integer (nullable = true)\n",
            " |-- notes: string (nullable = true)\n",
            "\n"
          ]
        }
      ],
      "source": [
        "#print the schema of df1 and df2\n",
        "\n",
        "df1.printSchema()\n",
        "df2.printSchema()"
      ],
      "execution_count": 7
    },
    {
      "cell_type": "markdown",
      "metadata": {
        "id": "32366e15-1798-4c2a-8bc4-730f17b2191c"
      },
      "source": [
        "#### Task 3: Add a new column to each dataframe\n",
        "\n",
        "Add a new column named **year** to `df1` and **quarter** to `df2` representing the year and quarter of the data.\n",
        "\n",
        "*Hint: use withColumn. Convert the date columns which are present as string to date before extracting the year and quarter information*\n",
        "\n",
        "\n"
      ]
    },
    {
      "cell_type": "code",
      "metadata": {
        "id": "bb030ec2-25ed-4c46-97dc-bfc386f63e6f"
      },
      "outputs": [],
      "source": [
        "from pyspark.sql.functions import year, quarter, to_date\n",
        "\n",
        "#Add new column year to df1\n",
        "df1 = df1.withColumn('year', year(to_date('date_column','dd/MM/yyyy')))\n",
        "\n",
        "# Add new column quarter to df2\n",
        "df2 = df2.withColumn('quarter', quarter(to_date('transaction_date','dd/MM/yyyy')))\n",
        "\n"
      ],
      "execution_count": 8
    },
    {
      "cell_type": "markdown",
      "metadata": {
        "id": "7c922fee-7a05-45b2-a8f1-dfd23fba7d57"
      },
      "source": [
        "#### Task 4: Rename columns in both dataframes\n",
        "\n",
        "Rename the column **amount** to **transaction_amount** in `df1` and **value** to **transaction_value** in `df2`.\n",
        "\n",
        "*Hint: Use withColumnRenamed*\n"
      ]
    },
    {
      "cell_type": "code",
      "metadata": {
        "id": "da687445-1b6f-499a-8f4d-445695a9ca26"
      },
      "outputs": [],
      "source": [
        "#Rename df1 column amount to transaction_amount\n",
        "df1 = df1.withColumnRenamed('amount', 'transaction_amount')\n",
        "\n",
        "# Rename df2 column value to transaction_value\n",
        "df2 = df2.withColumnRenamed('value', 'transaction_value')\n"
      ],
      "execution_count": 9
    },
    {
      "cell_type": "markdown",
      "metadata": {
        "id": "abff17fc-2c73-4daa-9566-bcebf8540e12"
      },
      "source": [
        "#### Task 5: Drop unnecessary columns\n",
        "\n",
        "Drop the columns **description** and **location** from `df1` and **notes** from `df2`.\n",
        "\n",
        "\n"
      ]
    },
    {
      "cell_type": "code",
      "metadata": {
        "id": "a0302fca-b218-4926-ba92-8c14150c4fd3"
      },
      "outputs": [],
      "source": [
        "# Drop columns description and location from df1\n",
        "df1 = df1.drop('description', 'location')\n",
        "\n",
        "# Drop column notes from df2\n",
        "df2 = df2.drop('notes')\n",
        "\n"
      ],
      "execution_count": 10
    },
    {
      "cell_type": "markdown",
      "metadata": {
        "id": "330c0979-a431-44a4-90ba-1a52bf900868"
      },
      "source": [
        "#### Task 6: Join dataframes based on a common column\n",
        "\n",
        "Join `df1` and `df2` based on the common column **customer_id** and create a new dataframe named `joined_df`.\n",
        "\n",
        "\n"
      ]
    },
    {
      "cell_type": "code",
      "metadata": {
        "id": "fcb0b06e-35d2-4567-a589-aec3c3de824b"
      },
      "outputs": [],
      "source": [
        "#join df1 and df2 based on common column customer_id\n",
        "joined_df = df1.join(df2, 'customer_id', 'inner')"
      ],
      "execution_count": 11
    },
    {
      "cell_type": "markdown",
      "metadata": {
        "id": "1a4f704f-3d7d-4d35-98fd-ad784954829a"
      },
      "source": [
        "#### Task 7: Filter data based on a condition\n",
        "\n",
        "Filter `joined_df` to include only transactions where \"transaction_amount\" is greater than 1000 and create a new dataframe named `filtered_df`.\n",
        "\n",
        "\n",
        "\n"
      ]
    },
    {
      "cell_type": "code",
      "metadata": {
        "id": "0f26a2c1-1661-42b5-8d87-ad9e71cf0e72"
      },
      "outputs": [],
      "source": [
        "# filter the dataframe for transaction amount > 1000\n",
        "filtered_df = joined_df.filter(\"transaction_amount > 1000\")"
      ],
      "execution_count": 12
    },
    {
      "cell_type": "markdown",
      "metadata": {
        "id": "e2185508-c977-4cf0-a12c-61592c0e0a3c"
      },
      "source": [
        "#### Task 8: Aggregate data by customer\n",
        "\n",
        "Calculate the total transaction amount for each customer in `filtered_df` and display the result.\n",
        "\n",
        "*Hint: Use sum from pyspark.sql.functions*\n"
      ]
    },
    {
      "cell_type": "code",
      "metadata": {
        "colab": {
          "base_uri": "https://localhost:8080/"
        },
        "id": "52b6b349-a52b-42de-b8ee-2ce31994e063",
        "outputId": "b3d7d908-df34-49af-ed55-36925a0c2057"
      },
      "outputs": [
        {
          "output_type": "stream",
          "name": "stdout",
          "text": [
            "+-----------+------------+\n",
            "|customer_id|total_amount|\n",
            "+-----------+------------+\n",
            "|         31|        3200|\n",
            "|         85|        1800|\n",
            "|         78|        1500|\n",
            "|         34|        1200|\n",
            "|         81|        5500|\n",
            "|         28|        2600|\n",
            "|         76|        2600|\n",
            "|         27|        4200|\n",
            "|         91|        3200|\n",
            "|         22|        1200|\n",
            "|         93|        5500|\n",
            "|          1|        5000|\n",
            "|         52|        2600|\n",
            "|         13|        4800|\n",
            "|          6|        4500|\n",
            "|         16|        2600|\n",
            "|         40|        2600|\n",
            "|         94|        1200|\n",
            "|         57|        5500|\n",
            "|         54|        1500|\n",
            "+-----------+------------+\n",
            "only showing top 20 rows\n",
            "\n"
          ]
        }
      ],
      "source": [
        "from pyspark.sql.functions import sum\n",
        "\n",
        "# group by customer_id and aggregate the sum of transaction amount\n",
        "\n",
        "total_amount_per_customer = filtered_df.groupBy('customer_id').agg(sum('transaction_amount').alias('total_amount'))\n",
        "\n",
        "# display the result\n",
        "total_amount_per_customer.show()\n"
      ],
      "execution_count": 13
    },
    {
      "cell_type": "markdown",
      "metadata": {
        "id": "983c51c7-23a6-4f9e-bb5b-0b2e68c06eaf"
      },
      "source": [
        "#### Task 9: Write the result to a Hive table\n",
        "\n",
        "Write `total_amount_per_customer` to a Hive table named **customer_totals**.\n"
      ]
    },
    {
      "cell_type": "code",
      "metadata": {
        "id": "6f1de2a2-b1f7-49eb-bb29-c5e1f4b8c493"
      },
      "outputs": [],
      "source": [
        "# Write total_amount_per_customer to a Hive table named customer_totals\n",
        "total_amount_per_customer.write.mode(\"overwrite\").saveAsTable(\"customer_totals\")"
      ],
      "execution_count": 17
    },
    {
      "cell_type": "markdown",
      "metadata": {
        "id": "7f2d119a-5418-474d-a34a-ff6513adef51"
      },
      "source": [
        "#### Task 10: Write the filtered data to HDFS\n",
        "\n",
        "Write `filtered_df` to HDFS in parquet format to a file named **filtered_data**.\n"
      ]
    },
    {
      "cell_type": "code",
      "metadata": {
        "id": "2625fa34-ebae-4e76-b3d4-86f8cc5c91c9"
      },
      "outputs": [],
      "source": [
        "#Write filtered_df to HDFS in parquet format file filtered_data\n",
        "\n",
        "from pyspark.sql.functions import to_date\n",
        "from pyspark.sql import SparkSession\n",
        "\n",
        "# Initialize Spark session and set legacy time parser policy\n",
        "spark = SparkSession.builder.getOrCreate()\n",
        "spark.conf.set(\"spark.sql.legacy.timeParserPolicy\", \"LEGACY\")\n",
        "\n",
        "# Assuming the date column is named 'date_column'\n",
        "filtered_df = filtered_df.withColumn('date_column', to_date('date_column', 'MM/dd/yyyy'))\n",
        "\n",
        "# Write the DataFrame to parquet\n",
        "filtered_df.write.mode(\"overwrite\").parquet(\"filtered_data.parquet\")\n",
        "\n"
      ],
      "execution_count": 23
    },
    {
      "cell_type": "markdown",
      "metadata": {
        "id": "fadd9070-dffc-44b6-a32e-dfaceed0f8f0"
      },
      "source": [
        "#### Task 11: Add a new column based on a condition\n",
        "\n",
        "Add a new column named **high_value** to `df1` indicating whether the transaction_amount is greater than 5000. When the value is greater than 5000, the value of the column should be **Yes**. When the value is less than or equal to 5000, the value of the column should be **No**.\n",
        "\n",
        "*Hint: Use when and lit from pyspark.sql.functions\n"
      ]
    },
    {
      "cell_type": "code",
      "metadata": {
        "id": "23b07f42-3e65-4bbe-b368-f8d68ce3a7db"
      },
      "outputs": [],
      "source": [
        "# Add new column with value indicating whether transaction amount is > 5000 or not\n",
        "\n",
        "from pyspark.sql.functions import when, lit\n",
        "\n",
        "# Add new column with value indicating whether transaction amount is > 5000 or not\n",
        "df1 = df1.withColumn(\"high_value\", when(df1.transaction_amount > 5000, lit(\"Yes\")).otherwise(lit(\"No\")))"
      ],
      "execution_count": 24
    },
    {
      "cell_type": "markdown",
      "metadata": {
        "id": "8d76e3a1-23fe-4857-afae-7ae036ca9697"
      },
      "source": [
        "#### Task 12: Calculate the average transaction value per quarter\n",
        "\n",
        "Calculate and display the average transaction value for each quarter in `df2` and create a new dataframe named `average_value_per_quarter` with column `avg_trans_val`.\n",
        "\n",
        "*Hint: Use avg from pyspark.sql.functions*\n"
      ]
    },
    {
      "cell_type": "code",
      "metadata": {
        "colab": {
          "base_uri": "https://localhost:8080/"
        },
        "id": "3f2c9c23-dacc-456c-8017-aeec9c98371d",
        "outputId": "8d4cc027-3aca-496b-8c3f-34641b9af449"
      },
      "outputs": [
        {
          "output_type": "stream",
          "name": "stdout",
          "text": [
            "+-------+------------------+\n",
            "|quarter|     avg_trans_val|\n",
            "+-------+------------------+\n",
            "|      1| 1111.111111111111|\n",
            "|      3|1958.3333333333333|\n",
            "|      4| 816.6666666666666|\n",
            "|      2|            1072.0|\n",
            "+-------+------------------+\n",
            "\n"
          ]
        }
      ],
      "source": [
        "#calculate the average transaction value for each quarter in df2\n",
        "\n",
        "from pyspark.sql.functions import avg\n",
        "\n",
        "# calculate the average transaction value for each quarter in df2\n",
        "average_value_per_quarter = df2.groupBy('quarter').agg(avg(\"transaction_value\").alias(\"avg_trans_val\"))\n",
        "\n",
        "\n",
        "# show the average transaction value for each quarter in df2\n",
        "average_value_per_quarter.show()\n"
      ],
      "execution_count": 25
    },
    {
      "cell_type": "markdown",
      "metadata": {
        "id": "0789942e-083c-40da-98c3-22f15a591a48"
      },
      "source": [
        "#### Task 13: Write the result to a Hive table\n",
        "\n",
        "Write `average_value_per_quarter` to a Hive table named **quarterly_averages**.\n"
      ]
    },
    {
      "cell_type": "code",
      "metadata": {
        "id": "c0d0ba1a-273e-48bd-8bc1-2369b5b8b6ad"
      },
      "outputs": [],
      "source": [
        "#Write average_value_per_quarter to a Hive table named quarterly_averages\n",
        "average_value_per_quarter.write.mode(\"overwrite\").saveAsTable(\"quarterly_averages\")"
      ],
      "execution_count": 26
    },
    {
      "cell_type": "markdown",
      "metadata": {
        "id": "cac27389-b1f8-4fbd-9638-7f8eba622c47"
      },
      "source": [
        "#### Task 14: Calculate the total transaction value per year\n",
        "\n",
        "Calculate and display the total transaction value for each year in `df1` and create a new dataframe named `total_value_per_year` with column `total_transaction_val`.\n",
        "> **Note:** The provided DataFrame `df1` does not explicitly have a `year` column initially. However, in Task 3, a new column named `year` is added to `df1` by extracting the year from the date column. Additionally, in Task 4, the column `amount` is renamed to `transaction_amount`.\n",
        "\n"
      ]
    },
    {
      "cell_type": "code",
      "metadata": {
        "colab": {
          "base_uri": "https://localhost:8080/"
        },
        "id": "56ea1132-da1b-4107-b417-624583f089f3",
        "outputId": "aa883adf-6e5b-47f9-9f8a-c84bd7c2e2e7"
      },
      "outputs": [
        {
          "output_type": "stream",
          "name": "stdout",
          "text": [
            "+----+---------------------+\n",
            "|year|total_transaction_val|\n",
            "+----+---------------------+\n",
            "|2025|                25700|\n",
            "|2027|                25700|\n",
            "|2023|                28100|\n",
            "|2022|                29800|\n",
            "|2026|                25700|\n",
            "|2029|                25700|\n",
            "|2030|                 9500|\n",
            "|2028|                25700|\n",
            "|2024|                25700|\n",
            "+----+---------------------+\n",
            "\n"
          ]
        }
      ],
      "source": [
        "# calculate the total transaction value for each year in df1.\n",
        "total_value_per_year = df1.groupBy('year').agg(sum(\"transaction_amount\").alias(\"total_transaction_val\"))\n",
        "\n",
        "# show the total transaction value for each year in df1.\n",
        "total_value_per_year.show()"
      ],
      "execution_count": 27
    },
    {
      "cell_type": "markdown",
      "metadata": {
        "id": "c49a02c8-ad94-4bd5-b913-34ad255a180d"
      },
      "source": [
        "#### Task 15: Write the result to HDFS\n",
        "\n",
        "Write `total_value_per_year` to HDFS in the CSV format to file named **total_value_per_year**.\n",
        "\n"
      ]
    },
    {
      "cell_type": "code",
      "metadata": {
        "id": "d2d427ae-be36-40d2-adab-95a8472aa749"
      },
      "outputs": [],
      "source": [
        "#Write total_value_per_year to HDFS in the CSV format\n",
        "\n",
        "total_value_per_year.write.mode(\"overwrite\").csv(\"total_value_per_year.csv\")"
      ],
      "execution_count": 28
    },
    {
      "cell_type": "markdown",
      "metadata": {
        "id": "734ac459-2485-4889-a99b-f1b8ec7c486a"
      },
      "source": [
        "\n",
        "This practice project provides hands-on experience with data transformation and integration using PySpark. Various tasks, including adding columns, renaming columns, dropping unnecessary columns, joining dataframes, and writing the results into both a Hive warehouse and an HDFS file system.\n"
      ]
    },
    {
      "cell_type": "markdown",
      "metadata": {
        "id": "4ccea6b5-8538-4d68-8607-543911a8846e"
      },
      "source": [
        "## Authors\n",
        "\n",
        "Alameen Waziri\n",
        "\n",
        "\n"
      ]
    },
    {
      "cell_type": "markdown",
      "metadata": {
        "id": "80482e93-0a8c-4412-a2eb-940ac8f7c621"
      },
      "source": [
        "<!--## Change Log -->\n"
      ]
    },
    {
      "cell_type": "markdown",
      "metadata": {
        "id": "009165af-29bb-4a53-b168-bd861638bcad"
      },
      "source": [
        "<!--|Date (YYYY-MM-DD)|Version|Changed By|Change Description|\n",
        "|-|-|-|-|\n",
        "|2023-09-01|0.1|Lavanya T S|Initial version|\n",
        "|2023-09-08|0.2|Pornima More|QA pass with edits|-->\n"
      ]
    },
    {
      "cell_type": "markdown",
      "metadata": {
        "id": "46963930-7891-416b-8d18-d638c4b5617b"
      },
      "source": [
        "<h3 align=\"center\"> &#169; IBM Corporation. All rights reserved. <h3/>\n"
      ]
    }
  ],
  "metadata": {
    "kernelspec": {
      "display_name": "Python",
      "language": "python",
      "name": "conda-env-python-py"
    },
    "language_info": {
      "name": "python",
      "version": "3.7.12",
      "mimetype": "text/x-python",
      "codemirror_mode": {
        "name": "ipython",
        "version": 3
      },
      "pygments_lexer": "ipython3",
      "nbconvert_exporter": "python",
      "file_extension": ".py"
    },
    "prev_pub_hash": "2db360d4eb5b5a825bffde0f271a8cc779b77ac350186b6be51fbb6b3e7c2c4d",
    "colab": {
      "provenance": [],
      "include_colab_link": true
    }
  },
  "nbformat": 4,
  "nbformat_minor": 0
}