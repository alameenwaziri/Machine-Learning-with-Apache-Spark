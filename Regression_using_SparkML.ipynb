{
  "cells": [
    {
      "cell_type": "markdown",
      "metadata": {
        "id": "view-in-github",
        "colab_type": "text"
      },
      "source": [
        "<a href=\"https://colab.research.google.com/github/alameenwaziri/Machine-Learning-with-Apache-Spark/blob/main/Regression_using_SparkML.ipynb\" target=\"_parent\"><img src=\"https://colab.research.google.com/assets/colab-badge.svg\" alt=\"Open In Colab\"/></a>"
      ]
    },
    {
      "cell_type": "markdown",
      "metadata": {
        "id": "2efe8ee5-3a05-469d-88e9-a76d2061a055"
      },
      "source": [
        "<p style=\"text-align:center\">\n",
        "    <a href=\"https://skills.network/?utm_medium=Exinfluencer&utm_source=Exinfluencer&utm_content=000026UJ&utm_term=10006555&utm_id=NA-SkillsNetwork-Channel-SkillsNetworkCoursesIBMSkillsNetworkBD0231ENCoursera2789-2023-01-01\">\n",
        "    <img src=\"https://cf-courses-data.s3.us.cloud-object-storage.appdomain.cloud/assets/logos/SN_web_lightmode.png\" width=\"200\" alt=\"Skills Network Logo\">\n",
        "    </a>\n",
        "</p>\n"
      ]
    },
    {
      "cell_type": "markdown",
      "metadata": {
        "id": "a236bc0e-81b7-42cf-a5ae-d3a68421d832"
      },
      "source": [
        "## Regression using SparkML\n"
      ]
    },
    {
      "cell_type": "markdown",
      "metadata": {
        "id": "38fb7f12-4ff4-4bda-aeaa-15ca23f9f6f2"
      },
      "source": [
        "<p style='color: red'>The purpose of this lab is to use SparkML to predict the mileage of a car.\n"
      ]
    },
    {
      "cell_type": "markdown",
      "metadata": {
        "id": "3496a1f1-4d9a-479e-a399-6c256d9ae612"
      },
      "source": [
        "## __Table of Contents__\n",
        "\n",
        "<ol>\n",
        "  <li>\n",
        "    <a href=\"#Objectives\">Objectives\n",
        "    </a>\n",
        "  </li>\n",
        "  <li>\n",
        "    <a href=\"#Datasets\">Datasets\n",
        "    </a>\n",
        "  </li>\n",
        "  <li>\n",
        "    <a href=\"#Setup\">Setup\n",
        "    </a>\n",
        "    <ol>\n",
        "      <li>\n",
        "        <a href=\"#Installing-Required-Libraries\">Installing Required Libraries\n",
        "        </a>\n",
        "      </li>\n",
        "      <li>\n",
        "        <a href=\"#Importing-Required-Libraries\">Importing Required Libraries\n",
        "        </a>\n",
        "      </li>\n",
        "    </ol>\n",
        "  </li>\n",
        "  <li>\n",
        "    <a href=\"#Examples\">Examples\n",
        "    </a>\n",
        "    <ol>\n",
        "    <li>\n",
        "      <a href=\"#Task-1---Create-a-spark-session\">Task 1 - Create a spark session\n",
        "      </a>\n",
        "    </li>\n",
        "    <li>\n",
        "      <a href=\"#Task-2---Load-the-data-in-a-csv-file-into-a-dataframe\">Task 2 - Load the data in a csv file into a dataframe\n",
        "      </a>\n",
        "    </li>\n",
        "    <li>\n",
        "      <a href=\"#Task-3---Identify-the-label-column-and-the-input-columns\">Task 3 - Identify the label column and the input columns\n",
        "      </a>\n",
        "    </li>\n",
        "    <li>\n",
        "      <a href=\"#Task-4---Split-the-data\">Task 4 - Split the data\n",
        "      </a>\n",
        "    </li>\n",
        "    <li>\n",
        "      <a href=\"#Task-5---Build-and-Train-a-Linear-Regression-Model\">Task 5 - Build and Train a Linear Regression Model\n",
        "      </a>\n",
        "    </li>\n",
        "    <li>\n",
        "      <a href=\"#Task-6---Evaluate-the-model\">Task 6 - Evaluate the model\n",
        "      </a>\n",
        "    </li>\n",
        "    </ol>\n",
        "  </li>\n",
        "  <li>\n",
        "    <a href=\"#Exercises\">Exercises\n",
        "    </a>\n",
        "  </li>\n",
        "  <ol>\n",
        "    <li>\n",
        "      <a href=\"#Exercise-1---Create-a-spark-session\">Exercise 1 - Create a spark session\n",
        "      </a>\n",
        "    </li>\n",
        "    <li>\n",
        "      <a href=\"#Exercise-2---Load-the-data-in-a-csv-file-into-a-dataframe\">Exercise 2 - Load the data in a csv file into a dataframe\n",
        "      </a>\n",
        "    </li>\n",
        "    <li>\n",
        "      <a href=\"#Exercise-3---Identify-the-label-column-and-the-input-columns\">Exercise 3 - Identify the label column and the input columns\n",
        "      </a>\n",
        "    </li>\n",
        "    <li>\n",
        "      <a href=\"#Exercise-4---Split-the-data\">Exercise 4 - Split the data\n",
        "      </a>\n",
        "    </li>\n",
        "    <li>\n",
        "      <a href=\"#Exercise-5---Build-and-Train-a-Linear-Regression-Model\">Exercise 5 - Build and Train a Linear Regression Model\n",
        "      </a>\n",
        "    </li>\n",
        "    <li>\n",
        "      <a href=\"#Exercise-6---Evaluate-the-model\">Exercise 6 - Evaluate the model\n",
        "      </a>\n",
        "    </li>\n",
        "  </ol>\n",
        "</ol>\n"
      ]
    },
    {
      "cell_type": "markdown",
      "metadata": {
        "id": "81a2cd64-96f2-41e9-bb3e-30f7c8e48046"
      },
      "source": [
        "## Objectives\n",
        "\n",
        "After completing this lab you will be able to:\n",
        "\n",
        " - Use PySpark to connect to a spark cluster.\n",
        " - Create a spark session.\n",
        " - Read a csv file into a data frame.\n",
        " - Split the dataset into training and testing sets.\n",
        " - Use VectorAssembler to combine multiple columns into a single vector column\n",
        " - Use Linear Regression to build a prediction model.\n",
        " - Use metrics to evaluate the model.\n",
        " - Stop the spark session\n",
        "\n",
        "\n",
        "\n"
      ]
    },
    {
      "cell_type": "markdown",
      "metadata": {
        "id": "08b14676-738c-4064-82b8-3fc0c9cecab4"
      },
      "source": [
        "## Datasets\n",
        "\n",
        "In this lab you will be using dataset(s):\n",
        "\n",
        " - Modified version of car mileage dataset. Original dataset available at https://archive.ics.uci.edu/ml/datasets/auto+mpg\n",
        " - Modified version of diamonds dataset. Original dataset available at https://www.openml.org/search?type=data&sort=runs&id=42225&status=active\n",
        "\n"
      ]
    },
    {
      "cell_type": "markdown",
      "metadata": {
        "id": "08620a95-a320-4f93-a452-65325e05b6f7"
      },
      "source": [
        "----\n"
      ]
    },
    {
      "cell_type": "markdown",
      "metadata": {
        "id": "db7f2b14-8547-4941-9f2c-b6a724c4301b"
      },
      "source": [
        "## Setup\n"
      ]
    },
    {
      "cell_type": "markdown",
      "metadata": {
        "id": "3572287b-4997-41ee-9c6d-dd343ed8833c"
      },
      "source": [
        "For this lab, we will be using the following libraries:\n",
        "\n",
        "*   [`PySpark`](https://spark.apache.org/docs/latest/api/python/index.html?utm_medium=Exinfluencer&utm_source=Exinfluencer&utm_content=000026UJ&utm_term=10006555&utm_id=NA-SkillsNetwork-Channel-SkillsNetworkCoursesIBMSkillsNetworkBD0231ENCoursera2789-2023-01-01) for connecting to the Spark Cluster\n"
      ]
    },
    {
      "cell_type": "markdown",
      "metadata": {
        "id": "77eb629b-986d-43aa-ba0e-0551d2959c2d"
      },
      "source": [
        "### Installing Required Libraries\n",
        "\n",
        "Spark Cluster is pre-installed in the Skills Network Labs environment. However, you need libraries like pyspark and findspark to connect to this cluster.\n",
        "\n",
        "If you wish to download this jupyter notebook and run on your local computer, follow the instructions mentioned <a href=\"https://cf-courses-data.s3.us.cloud-object-storage.appdomain.cloud/IBMSkillsNetwork-BD0231EN-Coursera/labs/Connecting_to_spark_cluster_using_Skills_Network_labs.ipynb\">here.</a>\n"
      ]
    },
    {
      "cell_type": "markdown",
      "metadata": {
        "id": "34d71401-14ec-458b-b9cb-9f3f3238a7e5"
      },
      "source": [
        "The following required libraries are __not__ pre-installed in the Skills Network Labs environment. __You will need to run the following cell__ to install them:\n"
      ]
    },
    {
      "cell_type": "code",
      "metadata": {
        "colab": {
          "base_uri": "https://localhost:8080/"
        },
        "id": "bcfdb09c-0416-4dbf-bd41-4f422982d738",
        "outputId": "6ffe26e3-ba13-463a-bd29-81a5d8302657"
      },
      "outputs": [
        {
          "output_type": "stream",
          "name": "stdout",
          "text": [
            "\u001b[2K     \u001b[90m━━━━━━━━━━━━━━━━━━━━━━━━━━━━━━━━━━━━━━━━\u001b[0m \u001b[32m212.4/212.4 MB\u001b[0m \u001b[31m5.8 MB/s\u001b[0m eta \u001b[36m0:00:00\u001b[0m\n",
            "\u001b[?25h  Preparing metadata (setup.py) ... \u001b[?25l\u001b[?25hdone\n",
            "\u001b[2K   \u001b[90m━━━━━━━━━━━━━━━━━━━━━━━━━━━━━━━━━━━━━━━━\u001b[0m \u001b[32m198.6/198.6 kB\u001b[0m \u001b[31m13.3 MB/s\u001b[0m eta \u001b[36m0:00:00\u001b[0m\n",
            "\u001b[?25h  Building wheel for pyspark (setup.py) ... \u001b[?25l\u001b[?25hdone\n"
          ]
        }
      ],
      "source": [
        "!pip install pyspark==3.1.2 -q\n",
        "!pip install findspark -q"
      ],
      "execution_count": 1
    },
    {
      "cell_type": "code",
      "metadata": {
        "id": "2fbea6e5-0108-49b0-8bbc-1bf6ad1140d1"
      },
      "outputs": [],
      "source": [
        "# You can use this section to suppress warnings generated by your code:\n",
        "def warn(*args, **kwargs):\n",
        "    pass\n",
        "import warnings\n",
        "warnings.warn = warn\n",
        "warnings.filterwarnings('ignore')\n"
      ],
      "execution_count": 2
    },
    {
      "cell_type": "markdown",
      "metadata": {
        "id": "764a90f4-f0ed-4e98-b902-25140fcd55fd"
      },
      "source": [
        "### Importing Required Libraries\n",
        "\n",
        "_We recommend you import all required libraries in one place (here):_\n"
      ]
    },
    {
      "cell_type": "code",
      "metadata": {
        "id": "27982ea0-c872-4ce1-a7b7-411e99334e5a"
      },
      "outputs": [],
      "source": [
        "# FindSpark simplifies the process of using Apache Spark with Python\n",
        "\n",
        "import findspark\n",
        "findspark.init()\n",
        "\n",
        "from pyspark.sql import SparkSession\n",
        "\n",
        "#import functions/Classes for sparkml\n",
        "\n",
        "from pyspark.ml.feature import VectorAssembler\n",
        "from pyspark.ml.regression import LinearRegression\n",
        "\n",
        "# import functions/Classes for metrics\n",
        "from pyspark.ml.evaluation import RegressionEvaluator\n"
      ],
      "execution_count": 3
    },
    {
      "cell_type": "markdown",
      "metadata": {
        "id": "8aec9da5-e067-4fd6-a6cd-bcecd18f1831"
      },
      "source": [
        "## Task 1 - Create a spark session\n"
      ]
    },
    {
      "cell_type": "code",
      "metadata": {
        "id": "d3cf2b12-d1af-460c-ab7c-b4b2219c2df9"
      },
      "outputs": [],
      "source": [
        "#Create SparkSession\n",
        "#Ignore any warnings by SparkSession command\n",
        "\n",
        "spark = SparkSession.builder.appName(\"Regressing using SparkML\").getOrCreate()"
      ],
      "execution_count": 4
    },
    {
      "cell_type": "markdown",
      "metadata": {
        "id": "2ff2bffc-3ccb-4c7c-b5a7-c93d47deee47"
      },
      "source": [
        "## Task 2 - Load the data in a csv file into a dataframe\n"
      ]
    },
    {
      "cell_type": "markdown",
      "metadata": {
        "id": "6c3e5ffa-9450-444f-9fdb-2372dd7f892c"
      },
      "source": [
        "Download the data file\n"
      ]
    },
    {
      "cell_type": "code",
      "metadata": {
        "colab": {
          "base_uri": "https://localhost:8080/"
        },
        "id": "b35d2b9c-6dd5-473f-9c70-ea8b1db450c5",
        "outputId": "d80f7aaa-bde7-4465-f5ee-e8772a658705"
      },
      "outputs": [
        {
          "output_type": "stream",
          "name": "stdout",
          "text": [
            "--2024-12-10 13:40:39--  https://cf-courses-data.s3.us.cloud-object-storage.appdomain.cloud/IBM-BD0231EN-SkillsNetwork/datasets/mpg.csv\n",
            "Resolving cf-courses-data.s3.us.cloud-object-storage.appdomain.cloud (cf-courses-data.s3.us.cloud-object-storage.appdomain.cloud)... 169.45.118.108\n",
            "Connecting to cf-courses-data.s3.us.cloud-object-storage.appdomain.cloud (cf-courses-data.s3.us.cloud-object-storage.appdomain.cloud)|169.45.118.108|:443... connected.\n",
            "HTTP request sent, awaiting response... 200 OK\n",
            "Length: 13891 (14K) [text/csv]\n",
            "Saving to: ‘mpg.csv’\n",
            "\n",
            "mpg.csv             100%[===================>]  13.57K  --.-KB/s    in 0s      \n",
            "\n",
            "2024-12-10 13:40:40 (312 MB/s) - ‘mpg.csv’ saved [13891/13891]\n",
            "\n"
          ]
        }
      ],
      "source": [
        "!wget https://cf-courses-data.s3.us.cloud-object-storage.appdomain.cloud/IBM-BD0231EN-SkillsNetwork/datasets/mpg.csv\n"
      ],
      "execution_count": 5
    },
    {
      "cell_type": "markdown",
      "metadata": {
        "id": "cc6d3bf7-a52a-4d9c-ab5b-34371bae12d0"
      },
      "source": [
        "Load the dataset into the spark dataframe\n"
      ]
    },
    {
      "cell_type": "code",
      "metadata": {
        "id": "e60a9a4a-8545-471b-b593-e7927c82f7b8"
      },
      "outputs": [],
      "source": [
        "# using the spark.read.csv function we load the data into a dataframe.\n",
        "# the header = True mentions that there is a header row in out csv file\n",
        "# the inferSchema = True, tells spark to automatically find out the data types of the columns.\n",
        "\n",
        "# Load mpg dataset\n",
        "mpg_data = spark.read.csv(\"mpg.csv\", header=True, inferSchema=True)\n"
      ],
      "execution_count": 6
    },
    {
      "cell_type": "markdown",
      "metadata": {
        "id": "1091d71a-27ca-4a83-b9f2-8e5d30d9c452"
      },
      "source": [
        "Print the schema of the dataset\n"
      ]
    },
    {
      "cell_type": "code",
      "metadata": {
        "colab": {
          "base_uri": "https://localhost:8080/"
        },
        "id": "c43567df-56c5-466a-8604-813c60ad22c6",
        "outputId": "96d58805-f661-4f6b-cf9c-c6cfc4dd7717"
      },
      "outputs": [
        {
          "output_type": "stream",
          "name": "stdout",
          "text": [
            "root\n",
            " |-- MPG: double (nullable = true)\n",
            " |-- Cylinders: integer (nullable = true)\n",
            " |-- Engine Disp: double (nullable = true)\n",
            " |-- Horsepower: integer (nullable = true)\n",
            " |-- Weight: integer (nullable = true)\n",
            " |-- Accelerate: double (nullable = true)\n",
            " |-- Year: integer (nullable = true)\n",
            " |-- Origin: string (nullable = true)\n",
            "\n"
          ]
        }
      ],
      "source": [
        "mpg_data.printSchema()"
      ],
      "execution_count": 7
    },
    {
      "cell_type": "markdown",
      "metadata": {
        "id": "a3d43baf-7e81-4a13-b455-f36cb42a73b8"
      },
      "source": [
        "show top 5 rows from the dataset\n"
      ]
    },
    {
      "cell_type": "code",
      "metadata": {
        "colab": {
          "base_uri": "https://localhost:8080/"
        },
        "id": "00e083ac-8186-47e9-95aa-49af0d896e4b",
        "outputId": "58b8f5fb-7f81-4134-c239-06ab9dcf6ec8"
      },
      "outputs": [
        {
          "output_type": "stream",
          "name": "stdout",
          "text": [
            "+----+---------+-----------+----------+------+----------+----+--------+\n",
            "| MPG|Cylinders|Engine Disp|Horsepower|Weight|Accelerate|Year|  Origin|\n",
            "+----+---------+-----------+----------+------+----------+----+--------+\n",
            "|15.0|        8|      390.0|       190|  3850|       8.5|  70|American|\n",
            "|21.0|        6|      199.0|        90|  2648|      15.0|  70|American|\n",
            "|18.0|        6|      199.0|        97|  2774|      15.5|  70|American|\n",
            "|16.0|        8|      304.0|       150|  3433|      12.0|  70|American|\n",
            "|14.0|        8|      455.0|       225|  3086|      10.0|  70|American|\n",
            "+----+---------+-----------+----------+------+----------+----+--------+\n",
            "only showing top 5 rows\n",
            "\n"
          ]
        }
      ],
      "source": [
        "mpg_data.show(5)"
      ],
      "execution_count": 8
    },
    {
      "cell_type": "markdown",
      "metadata": {
        "id": "bf384cfe-0cc8-4166-ad66-fdd0960e5dee"
      },
      "source": [
        "## Task 3 - Identify the label column and the input columns\n"
      ]
    },
    {
      "cell_type": "markdown",
      "metadata": {
        "id": "b5018d27-675f-4587-bc46-a7696c962e33"
      },
      "source": [
        "We ask the VectorAssembler to group a bunch of inputCols as single column named \"features\"\n"
      ]
    },
    {
      "cell_type": "code",
      "metadata": {
        "id": "428714f8-3b32-4c91-b528-5e77e6e551a3"
      },
      "outputs": [],
      "source": [
        "# Prepare feature vector\n",
        "assembler = VectorAssembler(inputCols=[\"Cylinders\", \"Engine Disp\", \"Horsepower\", \"Weight\", \"Accelerate\", \"Year\"], outputCol=\"features\")\n",
        "mpg_transformed_data = assembler.transform(mpg_data)\n"
      ],
      "execution_count": 9
    },
    {
      "cell_type": "markdown",
      "metadata": {
        "id": "76d0397d-295a-47dc-b125-76ff912d0744"
      },
      "source": [
        "Display the assembled \"features\" and the label column \"MPG\"\n"
      ]
    },
    {
      "cell_type": "code",
      "metadata": {
        "colab": {
          "base_uri": "https://localhost:8080/"
        },
        "id": "2572cc3c-9059-415e-8535-88bdfd6e13fb",
        "outputId": "463b2a83-0dbe-47b8-8d54-b252991f110b"
      },
      "outputs": [
        {
          "output_type": "stream",
          "name": "stdout",
          "text": [
            "+--------------------+----+\n",
            "|            features| MPG|\n",
            "+--------------------+----+\n",
            "|[8.0,390.0,190.0,...|15.0|\n",
            "|[6.0,199.0,90.0,2...|21.0|\n",
            "|[6.0,199.0,97.0,2...|18.0|\n",
            "|[8.0,304.0,150.0,...|16.0|\n",
            "|[8.0,455.0,225.0,...|14.0|\n",
            "|[8.0,350.0,165.0,...|15.0|\n",
            "|[8.0,307.0,130.0,...|18.0|\n",
            "|[8.0,454.0,220.0,...|14.0|\n",
            "|[8.0,400.0,150.0,...|15.0|\n",
            "|[8.0,307.0,200.0,...|10.0|\n",
            "|[8.0,383.0,170.0,...|15.0|\n",
            "|[8.0,318.0,210.0,...|11.0|\n",
            "|[8.0,360.0,215.0,...|10.0|\n",
            "|[8.0,429.0,198.0,...|15.0|\n",
            "|[6.0,200.0,85.0,2...|21.0|\n",
            "|[8.0,302.0,140.0,...|17.0|\n",
            "|[8.0,304.0,193.0,...| 9.0|\n",
            "|[8.0,340.0,160.0,...|14.0|\n",
            "|[6.0,198.0,95.0,2...|22.0|\n",
            "|[8.0,440.0,215.0,...|14.0|\n",
            "+--------------------+----+\n",
            "only showing top 20 rows\n",
            "\n"
          ]
        }
      ],
      "source": [
        "mpg_transformed_data.select(\"features\",\"MPG\").show()"
      ],
      "execution_count": 10
    },
    {
      "cell_type": "markdown",
      "metadata": {
        "id": "e4fe6260-8ca8-4238-a1ed-819bda6c4810"
      },
      "source": [
        "## Task 4 - Split the data\n"
      ]
    },
    {
      "cell_type": "markdown",
      "metadata": {
        "id": "3026021c-03bc-4182-94a6-0adf4ae8e351"
      },
      "source": [
        "We split the data set in the ratio of 70:30. 70% training data, 30% testing data.\n"
      ]
    },
    {
      "cell_type": "code",
      "metadata": {
        "id": "2c560a69-d0f7-42f2-94f8-81efd38b6376"
      },
      "outputs": [],
      "source": [
        "# Split data into training and testing sets\n",
        "(training_data, testing_data) = mpg_transformed_data.randomSplit([0.7, 0.3], seed=42)\n"
      ],
      "execution_count": 11
    },
    {
      "cell_type": "markdown",
      "metadata": {
        "id": "58c3cfe0-b83a-40b0-b579-0d66be76a60a"
      },
      "source": [
        "The random_state variable \"seed\" controls the shuffling applied to the data before applying the split. Pass the same integer for reproducible output across multiple function calls\n"
      ]
    },
    {
      "cell_type": "markdown",
      "metadata": {
        "id": "a0956003-cc62-4d21-b618-93a1598adda9"
      },
      "source": [
        "## Task 5 - Build and Train a Linear Regression Model\n"
      ]
    },
    {
      "cell_type": "markdown",
      "metadata": {
        "id": "036be4af-c087-418a-8bae-c8b8976ddee2"
      },
      "source": [
        "Create a LR model and train the model using the training data set\n"
      ]
    },
    {
      "cell_type": "code",
      "metadata": {
        "id": "317299e7-b3b0-4183-ab50-c988a3d42b4b"
      },
      "outputs": [],
      "source": [
        "# Train linear regression model\n",
        "# Ignore any warnings\n",
        "\n",
        "lr = LinearRegression(featuresCol=\"features\", labelCol=\"MPG\")\n",
        "model = lr.fit(training_data)"
      ],
      "execution_count": 12
    },
    {
      "cell_type": "markdown",
      "metadata": {
        "id": "16e75065-40dd-4689-8277-65fe89b5fab0"
      },
      "source": [
        "## Task 6 - Evaluate the model\n"
      ]
    },
    {
      "cell_type": "markdown",
      "metadata": {
        "id": "8f8d77a0-b168-4521-a971-e48b9c79f013"
      },
      "source": [
        "Your model is now trained. We use the testing data to make predictions.\n"
      ]
    },
    {
      "cell_type": "code",
      "metadata": {
        "id": "b0f06824-df65-41a2-acf1-88064653083b"
      },
      "outputs": [],
      "source": [
        "# Make predictions on testing data\n",
        "predictions = model.transform(testing_data)"
      ],
      "execution_count": 13
    },
    {
      "cell_type": "markdown",
      "metadata": {
        "id": "f7567bb5-58e1-47a6-9e26-c09bf37e8a12"
      },
      "source": [
        "##### R Squared\n"
      ]
    },
    {
      "cell_type": "code",
      "metadata": {
        "colab": {
          "base_uri": "https://localhost:8080/"
        },
        "id": "e00d8778-ff2d-4abf-86b4-b8caa3bee888",
        "outputId": "0e64892f-a800-4411-fe70-c877abc94ec9"
      },
      "outputs": [
        {
          "output_type": "stream",
          "name": "stdout",
          "text": [
            "R Squared = 0.8046190375720325\n"
          ]
        }
      ],
      "source": [
        "#R-squared (R2): R2 is a statistical measure that represents the proportion of variance\n",
        "#in the dependent variable (target) that is explained by the independent variables (features).\n",
        "#Higher values indicate better performance.\n",
        "\n",
        "evaluator = RegressionEvaluator(labelCol=\"MPG\", predictionCol=\"prediction\", metricName=\"r2\")\n",
        "r2 = evaluator.evaluate(predictions)\n",
        "print(\"R Squared =\", r2)\n"
      ],
      "execution_count": 14
    },
    {
      "cell_type": "markdown",
      "metadata": {
        "id": "ba610519-7d7b-4daa-a0de-38f2ceafd0da"
      },
      "source": [
        "##### Root Mean Squared Error\n"
      ]
    },
    {
      "cell_type": "code",
      "metadata": {
        "colab": {
          "base_uri": "https://localhost:8080/"
        },
        "id": "06e4b6fa-24ca-4ac8-9e78-7cefca4fbf91",
        "outputId": "9eaebb80-9094-4ae2-f805-9adb8e7531cb"
      },
      "outputs": [
        {
          "output_type": "stream",
          "name": "stdout",
          "text": [
            "RMSE = 3.453104969079217\n"
          ]
        }
      ],
      "source": [
        "#Root Mean Squared Error (RMSE): RMSE is the square root of the average of the squared differences\n",
        "#between the predicted and actual values. It measures the average distance between the predicted\n",
        "#and actual values, and lower values indicate better performance.\n",
        "\n",
        "evaluator = RegressionEvaluator(labelCol=\"MPG\", predictionCol=\"prediction\", metricName=\"rmse\")\n",
        "rmse = evaluator.evaluate(predictions)\n",
        "print(\"RMSE =\", rmse)\n"
      ],
      "execution_count": 15
    },
    {
      "cell_type": "markdown",
      "metadata": {
        "id": "5e4e7913-df54-4802-aedc-645a99d26a05"
      },
      "source": [
        "##### Mean Absolute Error\n"
      ]
    },
    {
      "cell_type": "code",
      "metadata": {
        "colab": {
          "base_uri": "https://localhost:8080/"
        },
        "id": "fec2bfc0-f41f-49a1-b328-91e20d01d678",
        "outputId": "2d514bb8-08ae-4bb6-cf86-d4264fad690a"
      },
      "outputs": [
        {
          "output_type": "stream",
          "name": "stdout",
          "text": [
            "MAE = 2.8423911791950123\n"
          ]
        }
      ],
      "source": [
        "#Mean Absolute Error (MAE): MAE is the average of the absolute differences between the predicted and\n",
        "#actual values. It measures the average absolute distance between the predicted and actual values, and\n",
        "#lower values indicate better performance.\n",
        "\n",
        "evaluator = RegressionEvaluator(labelCol=\"MPG\", predictionCol=\"prediction\", metricName=\"mae\")\n",
        "mae = evaluator.evaluate(predictions)\n",
        "print(\"MAE =\", mae)\n"
      ],
      "execution_count": 16
    },
    {
      "cell_type": "markdown",
      "metadata": {
        "id": "c5060567-8d5d-4a78-9d2d-57bc699c5e5b"
      },
      "source": [
        "Stop Spark Session\n"
      ]
    },
    {
      "cell_type": "code",
      "metadata": {
        "id": "0246630c-f1e8-4b32-883a-5921e946c094"
      },
      "outputs": [],
      "source": [
        "spark.stop()"
      ],
      "execution_count": null
    },
    {
      "cell_type": "markdown",
      "metadata": {
        "id": "3795e33f-0d81-4314-aa80-0f9b476c7af2"
      },
      "source": [
        "# Exercises\n"
      ]
    },
    {
      "cell_type": "markdown",
      "metadata": {
        "id": "3b940697-37c2-461b-9693-2f3094f42f61"
      },
      "source": [
        "### Exercise 1 - Create a spark session\n"
      ]
    },
    {
      "cell_type": "markdown",
      "metadata": {
        "id": "28066305-7d02-4fe3-a528-7eb7a14192e7"
      },
      "source": [
        "Create a spark session with appname \"Diamond Price Prediction\"\n"
      ]
    },
    {
      "cell_type": "code",
      "metadata": {
        "id": "83892d1c-be8d-4a23-b594-f26dc5203a72"
      },
      "outputs": [],
      "source": [
        "spark = SparkSession.builder.appName(\"Diamond Price Prediction\").getOrCreate()"
      ],
      "execution_count": 17
    },
    {
      "cell_type": "markdown",
      "metadata": {
        "id": "6587dec6-7e10-4b4f-80ff-86585608c3e5"
      },
      "source": [
        "### Exercise 2 - Load the data in a csv file into a dataframe\n"
      ]
    },
    {
      "cell_type": "markdown",
      "metadata": {
        "id": "a5f70036-4f9a-4d28-9e56-4d6e3df5d3b4"
      },
      "source": [
        "Download the data set\n"
      ]
    },
    {
      "cell_type": "code",
      "metadata": {
        "colab": {
          "base_uri": "https://localhost:8080/"
        },
        "id": "a06c2e5b-f044-4b45-bbfc-e3a8dd987840",
        "outputId": "1d982155-ff9c-4dad-d93a-3681f0259dd7"
      },
      "outputs": [
        {
          "output_type": "stream",
          "name": "stdout",
          "text": [
            "--2024-12-10 13:42:10--  https://cf-courses-data.s3.us.cloud-object-storage.appdomain.cloud/IBM-BD0231EN-SkillsNetwork/datasets/diamonds.csv\n",
            "Resolving cf-courses-data.s3.us.cloud-object-storage.appdomain.cloud (cf-courses-data.s3.us.cloud-object-storage.appdomain.cloud)... 169.45.118.108\n",
            "Connecting to cf-courses-data.s3.us.cloud-object-storage.appdomain.cloud (cf-courses-data.s3.us.cloud-object-storage.appdomain.cloud)|169.45.118.108|:443... connected.\n",
            "HTTP request sent, awaiting response... 200 OK\n",
            "Length: 3192561 (3.0M) [text/csv]\n",
            "Saving to: ‘diamonds.csv’\n",
            "\n",
            "diamonds.csv        100%[===================>]   3.04M  4.80MB/s    in 0.6s    \n",
            "\n",
            "2024-12-10 13:42:12 (4.80 MB/s) - ‘diamonds.csv’ saved [3192561/3192561]\n",
            "\n"
          ]
        }
      ],
      "source": [
        "!wget https://cf-courses-data.s3.us.cloud-object-storage.appdomain.cloud/IBM-BD0231EN-SkillsNetwork/datasets/diamonds.csv\n"
      ],
      "execution_count": 18
    },
    {
      "cell_type": "markdown",
      "metadata": {
        "id": "9784fc21-e356-4139-9feb-0371b87d7fed"
      },
      "source": [
        "Load the dataset into a spark dataframe\n"
      ]
    },
    {
      "cell_type": "code",
      "metadata": {
        "id": "521cbb55-7c13-43dd-8eff-5fa18d933abc"
      },
      "outputs": [],
      "source": [
        "diamond_data = spark.read.csv(\"diamonds.csv\", header=True, inferSchema=True)"
      ],
      "execution_count": 19
    },
    {
      "cell_type": "markdown",
      "metadata": {
        "id": "2010118b-1925-4f23-bb9e-912029eae4c7"
      },
      "source": [
        "Display sample data from dataset\n"
      ]
    },
    {
      "cell_type": "code",
      "metadata": {
        "colab": {
          "base_uri": "https://localhost:8080/"
        },
        "id": "15526385-6cf9-4941-aa00-719304c7c63a",
        "outputId": "e5129fb1-581c-4012-8a1d-0125b484cc9b"
      },
      "outputs": [
        {
          "output_type": "stream",
          "name": "stdout",
          "text": [
            "+---+-----+-------+-----+-------+-----+-----+-----+----+----+----+\n",
            "|  s|carat|    cut|color|clarity|depth|table|price|   x|   y|   z|\n",
            "+---+-----+-------+-----+-------+-----+-----+-----+----+----+----+\n",
            "|  1| 0.23|  Ideal|    E|    SI2| 61.5| 55.0|  326|3.95|3.98|2.43|\n",
            "|  2| 0.21|Premium|    E|    SI1| 59.8| 61.0|  326|3.89|3.84|2.31|\n",
            "|  3| 0.23|   Good|    E|    VS1| 56.9| 65.0|  327|4.05|4.07|2.31|\n",
            "|  4| 0.29|Premium|    I|    VS2| 62.4| 58.0|  334| 4.2|4.23|2.63|\n",
            "|  5| 0.31|   Good|    J|    SI2| 63.3| 58.0|  335|4.34|4.35|2.75|\n",
            "+---+-----+-------+-----+-------+-----+-----+-----+----+----+----+\n",
            "only showing top 5 rows\n",
            "\n"
          ]
        }
      ],
      "source": [
        "diamond_data.show(5)"
      ],
      "execution_count": 20
    },
    {
      "cell_type": "markdown",
      "metadata": {
        "id": "3c0b1ba6-62f2-4dae-bd73-2979a3cae35f"
      },
      "source": [
        "### Exercise 3 - Identify the label column and the input columns\n"
      ]
    },
    {
      "cell_type": "markdown",
      "metadata": {
        "id": "2e7ed273-2f03-4622-92e0-52c1cbeba54e"
      },
      "source": [
        " - use the price column as label column\n",
        " - use the columns carat,depth and table as features\n"
      ]
    },
    {
      "cell_type": "markdown",
      "metadata": {
        "id": "4e86fb4a-2753-469a-b4bb-7bbbc43b8761"
      },
      "source": [
        "Assemble the columns columns carat,depth and table into a single column named \"features\"\n"
      ]
    },
    {
      "cell_type": "code",
      "metadata": {
        "id": "c625e59b-6337-4a25-ae25-e74226be4173"
      },
      "outputs": [],
      "source": [
        "assembler = VectorAssembler(inputCols=[\"carat\", \"depth\", \"table\"], outputCol=\"features\")\n",
        "diamond_transformed_data = assembler.transform(diamond_data)\n"
      ],
      "execution_count": 21
    },
    {
      "cell_type": "markdown",
      "metadata": {
        "id": "9b7933f7-18a3-4bcb-b420-b69ae9000678"
      },
      "source": [
        "Print the vectorized features and label columns\n"
      ]
    },
    {
      "cell_type": "code",
      "metadata": {
        "colab": {
          "base_uri": "https://localhost:8080/"
        },
        "id": "52e8b4aa-e80f-4709-9588-1a6349646f1a",
        "outputId": "dae01eda-9c0c-44ae-e098-a75f24f2850a"
      },
      "outputs": [
        {
          "output_type": "stream",
          "name": "stdout",
          "text": [
            "+----------------+-----+\n",
            "|        features|price|\n",
            "+----------------+-----+\n",
            "|[0.23,61.5,55.0]|  326|\n",
            "|[0.21,59.8,61.0]|  326|\n",
            "|[0.23,56.9,65.0]|  327|\n",
            "|[0.29,62.4,58.0]|  334|\n",
            "|[0.31,63.3,58.0]|  335|\n",
            "|[0.24,62.8,57.0]|  336|\n",
            "|[0.24,62.3,57.0]|  336|\n",
            "|[0.26,61.9,55.0]|  337|\n",
            "|[0.22,65.1,61.0]|  337|\n",
            "|[0.23,59.4,61.0]|  338|\n",
            "| [0.3,64.0,55.0]|  339|\n",
            "|[0.23,62.8,56.0]|  340|\n",
            "|[0.22,60.4,61.0]|  342|\n",
            "|[0.31,62.2,54.0]|  344|\n",
            "| [0.2,60.2,62.0]|  345|\n",
            "|[0.32,60.9,58.0]|  345|\n",
            "| [0.3,62.0,54.0]|  348|\n",
            "| [0.3,63.4,54.0]|  351|\n",
            "| [0.3,63.8,56.0]|  351|\n",
            "| [0.3,62.7,59.0]|  351|\n",
            "+----------------+-----+\n",
            "only showing top 20 rows\n",
            "\n"
          ]
        }
      ],
      "source": [
        "diamond_transformed_data.select(\"features\",\"price\").show()"
      ],
      "execution_count": 22
    },
    {
      "cell_type": "markdown",
      "metadata": {
        "id": "b59687e8-6796-4fbd-a4b2-8d95f1e58b88"
      },
      "source": [
        "### Exercise 4 - Split the data\n"
      ]
    },
    {
      "cell_type": "markdown",
      "metadata": {
        "id": "cb138623-27cf-4121-8340-477f32c5e928"
      },
      "source": [
        "Split the dataset into training and testing sets in the ratio of 70:30.\n"
      ]
    },
    {
      "cell_type": "code",
      "metadata": {
        "id": "8b2f1e18-deb5-4f18-8eae-28c7ce333f80"
      },
      "outputs": [],
      "source": [
        "(training_data, testing_data) = diamond_transformed_data.randomSplit([0.7, 0.3])\n"
      ],
      "execution_count": 23
    },
    {
      "cell_type": "markdown",
      "metadata": {
        "id": "3bcf4d49-a591-44e6-9c7a-8a433e80c710"
      },
      "source": [
        "### Exercise 5 - Build and Train a Linear Regression Model\n"
      ]
    },
    {
      "cell_type": "markdown",
      "metadata": {
        "id": "4a373784-5e52-4864-aa32-00c37438beb5"
      },
      "source": [
        "Build a linear regression and train it\n"
      ]
    },
    {
      "cell_type": "code",
      "metadata": {
        "id": "739046c1-73f6-41ab-b987-8c53a1d8a2c4"
      },
      "outputs": [],
      "source": [
        "lr = LinearRegression(featuresCol=\"features\", labelCol=\"price\")\n",
        "model = lr.fit(training_data)"
      ],
      "execution_count": 24
    },
    {
      "cell_type": "markdown",
      "metadata": {
        "id": "76ec4f3c-a5cf-4581-859b-e99d4fff6f1d"
      },
      "source": [
        "Predict the values using the test data\n"
      ]
    },
    {
      "cell_type": "markdown",
      "metadata": {
        "id": "62e9a783-dd70-452d-84a3-c9c6b7f4d1da"
      },
      "source": [
        "### Exercise 6 - Evaluate the model\n"
      ]
    },
    {
      "cell_type": "markdown",
      "metadata": {
        "id": "462b0c14-5c74-4a42-835a-9fb846b5fd81"
      },
      "source": [
        "Your model is now trained. Make the model predict on testing_data\n"
      ]
    },
    {
      "cell_type": "code",
      "metadata": {
        "id": "4d4f91a4-e5cd-4606-b5e4-146079dcd639"
      },
      "outputs": [],
      "source": [
        "predictions = model.transform(testing_data)\n"
      ],
      "execution_count": 25
    },
    {
      "cell_type": "markdown",
      "metadata": {
        "id": "f86dfe77-ece0-4b87-833d-debe051700d2"
      },
      "source": [
        "Print the metrics :\n",
        "- R squared\n",
        "- mean absolute error\n",
        "- root mean squared error\n"
      ]
    },
    {
      "cell_type": "code",
      "metadata": {
        "colab": {
          "base_uri": "https://localhost:8080/"
        },
        "id": "66c1d484-6f93-489c-8ee2-291d1edeac26",
        "outputId": "548ed6b0-83c6-43f2-ab77-a107f2876e3f"
      },
      "outputs": [
        {
          "output_type": "stream",
          "name": "stdout",
          "text": [
            "R Squared = 0.8493484636486891\n",
            "MAE = 996.5601586237669\n",
            "RMSE = 1526.2891428282917\n"
          ]
        }
      ],
      "source": [
        "evaluator = RegressionEvaluator(labelCol=\"price\", predictionCol=\"prediction\", metricName=\"r2\")\n",
        "r2 = evaluator.evaluate(predictions)\n",
        "print(\"R Squared =\", r2)\n",
        "\n",
        "\n",
        "evaluator = RegressionEvaluator(labelCol=\"price\", predictionCol=\"prediction\", metricName=\"mae\")\n",
        "mae = evaluator.evaluate(predictions)\n",
        "print(\"MAE =\", mae)\n",
        "\n",
        "\n",
        "evaluator = RegressionEvaluator(labelCol=\"price\", predictionCol=\"prediction\", metricName=\"rmse\")\n",
        "rmse = evaluator.evaluate(predictions)\n",
        "print(\"RMSE =\", rmse)"
      ],
      "execution_count": 26
    },
    {
      "cell_type": "markdown",
      "metadata": {
        "id": "6eaea439-f4dc-4cc2-8002-0800630be2c1"
      },
      "source": [
        "## Authors\n"
      ]
    },
    {
      "cell_type": "markdown",
      "metadata": {
        "id": "f5316e81-efe9-4278-a9a4-3d8f94a4e76a"
      },
      "source": [
        "Alameen Waziri"
      ]
    },
    {
      "cell_type": "markdown",
      "metadata": {
        "id": "1fb32e18-d922-49d7-981b-d02162ebc39a"
      },
      "source": [
        "Copyright © 2023 IBM Corporation. All rights reserved.\n"
      ]
    },
    {
      "cell_type": "markdown",
      "metadata": {
        "id": "dc598c4e-a5bb-46ae-9bb4-bb2be9845b21"
      },
      "source": [
        "<!--\n",
        "## Change Log\n",
        "-->\n"
      ]
    },
    {
      "cell_type": "markdown",
      "metadata": {
        "id": "4a90a8ce-a4fb-4abc-862c-fcccfd388812"
      },
      "source": [
        "<!--\n",
        "|Date (YYYY-MM-DD)|Version|Changed By|Change Description|\n",
        "|-|-|-|-|\n",
        "|2023-04-25|0.1|Ramesh Sannareddy|Initial Version Created|\n",
        "-->\n"
      ]
    }
  ],
  "metadata": {
    "kernelspec": {
      "display_name": "Python",
      "language": "python",
      "name": "conda-env-python-py"
    },
    "language_info": {
      "name": "python",
      "version": "3.7.12",
      "mimetype": "text/x-python",
      "codemirror_mode": {
        "name": "ipython",
        "version": 3
      },
      "pygments_lexer": "ipython3",
      "nbconvert_exporter": "python",
      "file_extension": ".py"
    },
    "prev_pub_hash": "9e2a94d608ab32ec8b56797769b9a48a1ee2437f5816e5ee2ff5284d627886e8",
    "colab": {
      "provenance": [],
      "include_colab_link": true
    }
  },
  "nbformat": 4,
  "nbformat_minor": 0
}